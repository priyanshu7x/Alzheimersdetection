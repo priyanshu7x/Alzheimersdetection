{
 "cells": [
  {
   "cell_type": "markdown",
   "metadata": {},
   "source": [
    "### Importing Relevant libraries"
   ]
  },
  {
   "cell_type": "code",
   "execution_count": 1,
   "metadata": {},
   "outputs": [
    {
     "name": "stderr",
     "output_type": "stream",
     "text": [
      "\n",
      "The dash_html_components package is deprecated. Please replace\n",
      "`import dash_html_components as html` with `from dash import html`\n",
      "\n",
      "The dash_core_components package is deprecated. Please replace\n",
      "`import dash_core_components as dcc` with `from dash import dcc`\n"
     ]
    }
   ],
   "source": [
    "## Importing the relevant libraries\n",
    "import numpy as np\n",
    "import pandas as pd\n",
    "import matplotlib.pyplot as plt\n",
    "import seaborn as sns\n",
    "%matplotlib inline\n",
    "from sklearn.model_selection import train_test_split\n",
    "from sklearn.preprocessing import StandardScaler, OneHotEncoder\n",
    "from sklearn.compose import ColumnTransformer\n",
    "from sklearn.tree import DecisionTreeClassifier\n",
    "from sklearn.ensemble import RandomForestClassifier\n",
    "from sklearn.metrics import accuracy_score\n",
    "from sklearn.pipeline import Pipeline\n",
    "from sklearn.model_selection import GridSearchCV\n",
    "from sklearn.ensemble import BaggingClassifier, AdaBoostClassifier, GradientBoostingClassifier,StackingClassifier, VotingClassifier \n",
    "from matplotlib import colors\n",
    "from sklearn.model_selection import cross_val_score \n",
    "from sklearn.metrics import confusion_matrix \n",
    "from sklearn.metrics import classification_report\n",
    "from sklearn.metrics import plot_confusion_matrix\n",
    "from sklearn.linear_model import LogisticRegression\n",
    "from sklearn import tree\n",
    "from sklearn.inspection import permutation_importance\n",
    "from sklearn.impute import KNNImputer,SimpleImputer\n",
    "from sklearn.model_selection import KFold\n",
    "from itertools import product\n",
    "from collections import OrderedDict\n",
    "#!pip install explainerdashboard\n",
    "from explainerdashboard import ClassifierExplainer, ExplainerDashboard,InlineExplainer"
   ]
  },
  {
   "cell_type": "markdown",
   "metadata": {},
   "source": [
    "## Reading the Data & Cleaning\n",
    "#### Reading both Cross-Sectional and Longitudinal Data"
   ]
  },
  {
   "cell_type": "code",
   "execution_count": 2,
   "metadata": {},
   "outputs": [
    {
     "name": "stdout",
     "output_type": "stream",
     "text": [
      "(436, 12)\n",
      "(373, 15)\n"
     ]
    }
   ],
   "source": [
    "## Reading the data\n",
    "cross = pd.read_csv(\"C:/Users/priya/Desktop/DS2 Project/oasis_cross-sectional.csv\")\n",
    "long = pd.read_csv(\"C:/Users/priya/Desktop/DS2 Project/oasis_longitudinal.csv\",encoding = 'unicode_escape')\n",
    "\n",
    "## Printing the sahpe of the datasets\n",
    "print(cross.shape)\n",
    "print(long.shape)"
   ]
  },
  {
   "cell_type": "markdown",
   "metadata": {},
   "source": [
    "#### Dropping unnecessary columns & Concatenating both datasets"
   ]
  },
  {
   "cell_type": "code",
   "execution_count": 3,
   "metadata": {},
   "outputs": [
    {
     "name": "stdout",
     "output_type": "stream",
     "text": [
      "<class 'pandas.core.frame.DataFrame'>\n",
      "RangeIndex: 436 entries, 0 to 435\n",
      "Data columns (total 10 columns):\n",
      " #   Column  Non-Null Count  Dtype  \n",
      "---  ------  --------------  -----  \n",
      " 0   ID      436 non-null    object \n",
      " 1   M/F     436 non-null    object \n",
      " 2   Age     436 non-null    int64  \n",
      " 3   Educ    235 non-null    float64\n",
      " 4   SES     216 non-null    float64\n",
      " 5   MMSE    235 non-null    float64\n",
      " 6   CDR     235 non-null    float64\n",
      " 7   eTIV    436 non-null    int64  \n",
      " 8   nWBV    436 non-null    float64\n",
      " 9   ASF     436 non-null    float64\n",
      "dtypes: float64(6), int64(2), object(2)\n",
      "memory usage: 34.2+ KB\n",
      "None\n",
      "<class 'pandas.core.frame.DataFrame'>\n",
      "RangeIndex: 373 entries, 0 to 372\n",
      "Data columns (total 10 columns):\n",
      " #   Column  Non-Null Count  Dtype  \n",
      "---  ------  --------------  -----  \n",
      " 0   ID      373 non-null    object \n",
      " 1   M/F     373 non-null    object \n",
      " 2   Age     373 non-null    int64  \n",
      " 3   Educ    373 non-null    int64  \n",
      " 4   SES     354 non-null    float64\n",
      " 5   MMSE    371 non-null    float64\n",
      " 6   CDR     373 non-null    float64\n",
      " 7   eTIV    373 non-null    int64  \n",
      " 8   nWBV    373 non-null    float64\n",
      " 9   ASF     373 non-null    float64\n",
      "dtypes: float64(5), int64(3), object(2)\n",
      "memory usage: 29.3+ KB\n",
      "None\n",
      "<class 'pandas.core.frame.DataFrame'>\n",
      "Index: 809 entries, OAS1_0001_MR1 to OAS2_0186_MR3\n",
      "Data columns (total 9 columns):\n",
      " #   Column  Non-Null Count  Dtype  \n",
      "---  ------  --------------  -----  \n",
      " 0   M/F     809 non-null    object \n",
      " 1   Age     809 non-null    int64  \n",
      " 2   Educ    608 non-null    float64\n",
      " 3   SES     570 non-null    float64\n",
      " 4   MMSE    606 non-null    float64\n",
      " 5   CDR     608 non-null    float64\n",
      " 6   eTIV    809 non-null    int64  \n",
      " 7   nWBV    809 non-null    float64\n",
      " 8   ASF     809 non-null    float64\n",
      "dtypes: float64(6), int64(2), object(1)\n",
      "memory usage: 63.2+ KB\n",
      "None\n"
     ]
    }
   ],
   "source": [
    "## Since majority of Delay Data is null we drop the feature\n",
    "## Also drop the ID and unnecessary columns\n",
    "cross.drop(columns=['Delay', 'Hand'], inplace=True)\n",
    "long.drop(columns=['Subject ID','Visit','MR Delay','Group', 'Hand'], inplace=True)\n",
    "\n",
    "## Renaming the column names\n",
    "cross.rename(columns={'M_F':'M/F','EDUC':'Educ'}, inplace=True)\n",
    "long.rename(columns={'EDUC':'Educ', 'MRI ID':'ID'}, inplace=True)\n",
    "print(cross.info())\n",
    "print(long.info())\n",
    "\n",
    "## Concating the tables\n",
    "df=pd.concat([cross,long])\n",
    "df.reset_index(inplace=True)\n",
    "df.set_index('ID',inplace=True)\n",
    "df.drop(columns=['index'], inplace=True)\n",
    "\n",
    "print(df.info())"
   ]
  },
  {
   "cell_type": "markdown",
   "metadata": {},
   "source": [
    "#### Missing Value Treatment"
   ]
  },
  {
   "cell_type": "code",
   "execution_count": 4,
   "metadata": {},
   "outputs": [
    {
     "data": {
      "text/html": [
       "<div>\n",
       "<style scoped>\n",
       "    .dataframe tbody tr th:only-of-type {\n",
       "        vertical-align: middle;\n",
       "    }\n",
       "\n",
       "    .dataframe tbody tr th {\n",
       "        vertical-align: top;\n",
       "    }\n",
       "\n",
       "    .dataframe thead th {\n",
       "        text-align: right;\n",
       "    }\n",
       "</style>\n",
       "<table border=\"1\" class=\"dataframe\">\n",
       "  <thead>\n",
       "    <tr style=\"text-align: right;\">\n",
       "      <th></th>\n",
       "      <th>Missing Values</th>\n",
       "      <th>% of Missing Values</th>\n",
       "    </tr>\n",
       "  </thead>\n",
       "  <tbody>\n",
       "    <tr>\n",
       "      <th>M/F</th>\n",
       "      <td>0</td>\n",
       "      <td>0.0</td>\n",
       "    </tr>\n",
       "    <tr>\n",
       "      <th>Age</th>\n",
       "      <td>0</td>\n",
       "      <td>0.0</td>\n",
       "    </tr>\n",
       "    <tr>\n",
       "      <th>Educ</th>\n",
       "      <td>201</td>\n",
       "      <td>24.8</td>\n",
       "    </tr>\n",
       "    <tr>\n",
       "      <th>SES</th>\n",
       "      <td>239</td>\n",
       "      <td>29.5</td>\n",
       "    </tr>\n",
       "    <tr>\n",
       "      <th>MMSE</th>\n",
       "      <td>203</td>\n",
       "      <td>25.1</td>\n",
       "    </tr>\n",
       "    <tr>\n",
       "      <th>CDR</th>\n",
       "      <td>201</td>\n",
       "      <td>24.8</td>\n",
       "    </tr>\n",
       "    <tr>\n",
       "      <th>eTIV</th>\n",
       "      <td>0</td>\n",
       "      <td>0.0</td>\n",
       "    </tr>\n",
       "    <tr>\n",
       "      <th>nWBV</th>\n",
       "      <td>0</td>\n",
       "      <td>0.0</td>\n",
       "    </tr>\n",
       "    <tr>\n",
       "      <th>ASF</th>\n",
       "      <td>0</td>\n",
       "      <td>0.0</td>\n",
       "    </tr>\n",
       "  </tbody>\n",
       "</table>\n",
       "</div>"
      ],
      "text/plain": [
       "      Missing Values  % of Missing Values\n",
       "M/F                0                  0.0\n",
       "Age                0                  0.0\n",
       "Educ             201                 24.8\n",
       "SES              239                 29.5\n",
       "MMSE             203                 25.1\n",
       "CDR              201                 24.8\n",
       "eTIV               0                  0.0\n",
       "nWBV               0                  0.0\n",
       "ASF                0                  0.0"
      ]
     },
     "execution_count": 4,
     "metadata": {},
     "output_type": "execute_result"
    }
   ],
   "source": [
    "## Checking combined dataset for any missing values\n",
    "Missing_Value=df.isnull().sum()\n",
    "Missing_Value_Percent= round(df.isna().sum()*100/len(df),1)\n",
    "Missing_Value_df=pd.concat([Missing_Value,Missing_Value_Percent],axis=1)\n",
    "Missing_Value_df.rename(columns={0 : 'Missing Values', 1 : '% of Missing Values'})"
   ]
  },
  {
   "cell_type": "code",
   "execution_count": 5,
   "metadata": {},
   "outputs": [
    {
     "name": "stdout",
     "output_type": "stream",
     "text": [
      "(608, 9)\n"
     ]
    }
   ],
   "source": [
    "## Removing the dependent Variable with missing values\n",
    "df.dropna(subset=['CDR'], inplace=True)\n",
    "print(df.shape)"
   ]
  },
  {
   "cell_type": "code",
   "execution_count": 6,
   "metadata": {},
   "outputs": [
    {
     "data": {
      "text/html": [
       "<div>\n",
       "<style scoped>\n",
       "    .dataframe tbody tr th:only-of-type {\n",
       "        vertical-align: middle;\n",
       "    }\n",
       "\n",
       "    .dataframe tbody tr th {\n",
       "        vertical-align: top;\n",
       "    }\n",
       "\n",
       "    .dataframe thead th {\n",
       "        text-align: right;\n",
       "    }\n",
       "</style>\n",
       "<table border=\"1\" class=\"dataframe\">\n",
       "  <thead>\n",
       "    <tr style=\"text-align: right;\">\n",
       "      <th></th>\n",
       "      <th>Missing Values</th>\n",
       "      <th>% of Missing Values</th>\n",
       "    </tr>\n",
       "  </thead>\n",
       "  <tbody>\n",
       "    <tr>\n",
       "      <th>M/F</th>\n",
       "      <td>0</td>\n",
       "      <td>0.0</td>\n",
       "    </tr>\n",
       "    <tr>\n",
       "      <th>Age</th>\n",
       "      <td>0</td>\n",
       "      <td>0.0</td>\n",
       "    </tr>\n",
       "    <tr>\n",
       "      <th>Educ</th>\n",
       "      <td>0</td>\n",
       "      <td>0.0</td>\n",
       "    </tr>\n",
       "    <tr>\n",
       "      <th>SES</th>\n",
       "      <td>38</td>\n",
       "      <td>6.2</td>\n",
       "    </tr>\n",
       "    <tr>\n",
       "      <th>MMSE</th>\n",
       "      <td>2</td>\n",
       "      <td>0.3</td>\n",
       "    </tr>\n",
       "    <tr>\n",
       "      <th>CDR</th>\n",
       "      <td>0</td>\n",
       "      <td>0.0</td>\n",
       "    </tr>\n",
       "    <tr>\n",
       "      <th>eTIV</th>\n",
       "      <td>0</td>\n",
       "      <td>0.0</td>\n",
       "    </tr>\n",
       "    <tr>\n",
       "      <th>nWBV</th>\n",
       "      <td>0</td>\n",
       "      <td>0.0</td>\n",
       "    </tr>\n",
       "    <tr>\n",
       "      <th>ASF</th>\n",
       "      <td>0</td>\n",
       "      <td>0.0</td>\n",
       "    </tr>\n",
       "  </tbody>\n",
       "</table>\n",
       "</div>"
      ],
      "text/plain": [
       "      Missing Values  % of Missing Values\n",
       "M/F                0                  0.0\n",
       "Age                0                  0.0\n",
       "Educ               0                  0.0\n",
       "SES               38                  6.2\n",
       "MMSE               2                  0.3\n",
       "CDR                0                  0.0\n",
       "eTIV               0                  0.0\n",
       "nWBV               0                  0.0\n",
       "ASF                0                  0.0"
      ]
     },
     "execution_count": 6,
     "metadata": {},
     "output_type": "execute_result"
    }
   ],
   "source": [
    "## Checking for missing values after dropping missing CDR values\n",
    "Missing_Value=df.isnull().sum()\n",
    "Missing_Value_Percent= round(df.isna().sum()*100/len(df),1)\n",
    "Missing_Value_df=pd.concat([Missing_Value,Missing_Value_Percent],axis=1)\n",
    "Missing_Value_df.rename(columns={0 : 'Missing Values', 1 : '% of Missing Values'})"
   ]
  },
  {
   "cell_type": "code",
   "execution_count": 7,
   "metadata": {},
   "outputs": [
    {
     "data": {
      "text/html": [
       "<div>\n",
       "<style scoped>\n",
       "    .dataframe tbody tr th:only-of-type {\n",
       "        vertical-align: middle;\n",
       "    }\n",
       "\n",
       "    .dataframe tbody tr th {\n",
       "        vertical-align: top;\n",
       "    }\n",
       "\n",
       "    .dataframe thead th {\n",
       "        text-align: right;\n",
       "    }\n",
       "</style>\n",
       "<table border=\"1\" class=\"dataframe\">\n",
       "  <thead>\n",
       "    <tr style=\"text-align: right;\">\n",
       "      <th></th>\n",
       "      <th>Missing Values</th>\n",
       "      <th>% of Missing Values</th>\n",
       "    </tr>\n",
       "  </thead>\n",
       "  <tbody>\n",
       "    <tr>\n",
       "      <th>M/F</th>\n",
       "      <td>0</td>\n",
       "      <td>0.0</td>\n",
       "    </tr>\n",
       "    <tr>\n",
       "      <th>Age</th>\n",
       "      <td>0</td>\n",
       "      <td>0.0</td>\n",
       "    </tr>\n",
       "    <tr>\n",
       "      <th>Educ</th>\n",
       "      <td>0</td>\n",
       "      <td>0.0</td>\n",
       "    </tr>\n",
       "    <tr>\n",
       "      <th>SES</th>\n",
       "      <td>0</td>\n",
       "      <td>0.0</td>\n",
       "    </tr>\n",
       "    <tr>\n",
       "      <th>MMSE</th>\n",
       "      <td>0</td>\n",
       "      <td>0.0</td>\n",
       "    </tr>\n",
       "    <tr>\n",
       "      <th>CDR</th>\n",
       "      <td>0</td>\n",
       "      <td>0.0</td>\n",
       "    </tr>\n",
       "    <tr>\n",
       "      <th>eTIV</th>\n",
       "      <td>0</td>\n",
       "      <td>0.0</td>\n",
       "    </tr>\n",
       "    <tr>\n",
       "      <th>nWBV</th>\n",
       "      <td>0</td>\n",
       "      <td>0.0</td>\n",
       "    </tr>\n",
       "    <tr>\n",
       "      <th>ASF</th>\n",
       "      <td>0</td>\n",
       "      <td>0.0</td>\n",
       "    </tr>\n",
       "  </tbody>\n",
       "</table>\n",
       "</div>"
      ],
      "text/plain": [
       "      Missing Values  % of Missing Values\n",
       "M/F                0                  0.0\n",
       "Age                0                  0.0\n",
       "Educ               0                  0.0\n",
       "SES                0                  0.0\n",
       "MMSE               0                  0.0\n",
       "CDR                0                  0.0\n",
       "eTIV               0                  0.0\n",
       "nWBV               0                  0.0\n",
       "ASF                0                  0.0"
      ]
     },
     "execution_count": 7,
     "metadata": {},
     "output_type": "execute_result"
    }
   ],
   "source": [
    "## Imputing missng values with SimpleImputer\n",
    "imputer=SimpleImputer(missing_values=np.nan)\n",
    "df[['SES','MMSE']]= imputer.fit_transform(df[['SES','MMSE']])\n",
    "\n",
    "## Checking if any null values exist after imputation\n",
    "Missing_Value=df.isnull().sum()\n",
    "Missing_Value_Percent= round(df.isna().sum()*100/len(df),1)\n",
    "Missing_Value_df=pd.concat([Missing_Value,Missing_Value_Percent],axis=1)\n",
    "Missing_Value_df.rename(columns={0 : 'Missing Values', 1 : '% of Missing Values'})"
   ]
  },
  {
   "cell_type": "markdown",
   "metadata": {},
   "source": [
    "## Exploratory Data Analysis"
   ]
  },
  {
   "cell_type": "code",
   "execution_count": 8,
   "metadata": {},
   "outputs": [
    {
     "data": {
      "image/png": "[encoded data removed]",
      "text/plain": [
       "<Figure size 1080x576 with 1 Axes>"
      ]
     },
     "metadata": {},
     "output_type": "display_data"
    }
   ],
   "source": [
    "# EDA\n",
    "df_final=df.copy()\n",
    "#df_final.reset_index(inplace=True)\n",
    "#df_final.drop(columns=['index'], inplace=True)\n",
    "sns.set_style('darkgrid')\n",
    "sns.set(rc = {'figure.figsize':(15,8)})\n",
    "sns.histplot(data=df_final, x=\"CDR\", color='olive', kde=True).set(title=\"CDR Distribution\")\n",
    "plt.show()"
   ]
  },
  {
   "cell_type": "code",
   "execution_count": 9,
   "metadata": {},
   "outputs": [
    {
     "data": {
      "text/html": [
       "<div>\n",
       "<style scoped>\n",
       "    .dataframe tbody tr th:only-of-type {\n",
       "        vertical-align: middle;\n",
       "    }\n",
       "\n",
       "    .dataframe tbody tr th {\n",
       "        vertical-align: top;\n",
       "    }\n",
       "\n",
       "    .dataframe thead th {\n",
       "        text-align: right;\n",
       "    }\n",
       "</style>\n",
       "<table border=\"1\" class=\"dataframe\">\n",
       "  <thead>\n",
       "    <tr style=\"text-align: right;\">\n",
       "      <th></th>\n",
       "      <th>M/F</th>\n",
       "      <th>Age</th>\n",
       "      <th>Educ</th>\n",
       "      <th>SES</th>\n",
       "      <th>MMSE</th>\n",
       "      <th>CDR</th>\n",
       "      <th>eTIV</th>\n",
       "      <th>nWBV</th>\n",
       "      <th>ASF</th>\n",
       "    </tr>\n",
       "    <tr>\n",
       "      <th>ID</th>\n",
       "      <th></th>\n",
       "      <th></th>\n",
       "      <th></th>\n",
       "      <th></th>\n",
       "      <th></th>\n",
       "      <th></th>\n",
       "      <th></th>\n",
       "      <th></th>\n",
       "      <th></th>\n",
       "    </tr>\n",
       "  </thead>\n",
       "  <tbody>\n",
       "    <tr>\n",
       "      <th>OAS1_0001_MR1</th>\n",
       "      <td>F</td>\n",
       "      <td>74</td>\n",
       "      <td>2</td>\n",
       "      <td>3.0</td>\n",
       "      <td>29.0</td>\n",
       "      <td>Non-Demented</td>\n",
       "      <td>1344</td>\n",
       "      <td>0.743</td>\n",
       "      <td>1.306</td>\n",
       "    </tr>\n",
       "    <tr>\n",
       "      <th>OAS1_0002_MR1</th>\n",
       "      <td>F</td>\n",
       "      <td>55</td>\n",
       "      <td>4</td>\n",
       "      <td>1.0</td>\n",
       "      <td>29.0</td>\n",
       "      <td>Non-Demented</td>\n",
       "      <td>1147</td>\n",
       "      <td>0.810</td>\n",
       "      <td>1.531</td>\n",
       "    </tr>\n",
       "    <tr>\n",
       "      <th>OAS1_0003_MR1</th>\n",
       "      <td>F</td>\n",
       "      <td>73</td>\n",
       "      <td>4</td>\n",
       "      <td>3.0</td>\n",
       "      <td>27.0</td>\n",
       "      <td>Demented</td>\n",
       "      <td>1454</td>\n",
       "      <td>0.708</td>\n",
       "      <td>1.207</td>\n",
       "    </tr>\n",
       "    <tr>\n",
       "      <th>OAS1_0010_MR1</th>\n",
       "      <td>M</td>\n",
       "      <td>74</td>\n",
       "      <td>5</td>\n",
       "      <td>2.0</td>\n",
       "      <td>30.0</td>\n",
       "      <td>Non-Demented</td>\n",
       "      <td>1636</td>\n",
       "      <td>0.689</td>\n",
       "      <td>1.073</td>\n",
       "    </tr>\n",
       "    <tr>\n",
       "      <th>OAS1_0011_MR1</th>\n",
       "      <td>F</td>\n",
       "      <td>52</td>\n",
       "      <td>3</td>\n",
       "      <td>2.0</td>\n",
       "      <td>30.0</td>\n",
       "      <td>Non-Demented</td>\n",
       "      <td>1321</td>\n",
       "      <td>0.827</td>\n",
       "      <td>1.329</td>\n",
       "    </tr>\n",
       "    <tr>\n",
       "      <th>...</th>\n",
       "      <td>...</td>\n",
       "      <td>...</td>\n",
       "      <td>...</td>\n",
       "      <td>...</td>\n",
       "      <td>...</td>\n",
       "      <td>...</td>\n",
       "      <td>...</td>\n",
       "      <td>...</td>\n",
       "      <td>...</td>\n",
       "    </tr>\n",
       "    <tr>\n",
       "      <th>OAS1_0197_MR1</th>\n",
       "      <td>F</td>\n",
       "      <td>89</td>\n",
       "      <td>3</td>\n",
       "      <td>3.0</td>\n",
       "      <td>29.0</td>\n",
       "      <td>Non-Demented</td>\n",
       "      <td>1154</td>\n",
       "      <td>0.747</td>\n",
       "      <td>1.521</td>\n",
       "    </tr>\n",
       "    <tr>\n",
       "      <th>OAS1_0199_MR1</th>\n",
       "      <td>M</td>\n",
       "      <td>69</td>\n",
       "      <td>5</td>\n",
       "      <td>1.0</td>\n",
       "      <td>30.0</td>\n",
       "      <td>Non-Demented</td>\n",
       "      <td>1601</td>\n",
       "      <td>0.784</td>\n",
       "      <td>1.096</td>\n",
       "    </tr>\n",
       "    <tr>\n",
       "      <th>OAS1_0200_MR1</th>\n",
       "      <td>F</td>\n",
       "      <td>60</td>\n",
       "      <td>2</td>\n",
       "      <td>4.0</td>\n",
       "      <td>30.0</td>\n",
       "      <td>Non-Demented</td>\n",
       "      <td>1366</td>\n",
       "      <td>0.807</td>\n",
       "      <td>1.285</td>\n",
       "    </tr>\n",
       "    <tr>\n",
       "      <th>OAS1_0201_MR1</th>\n",
       "      <td>F</td>\n",
       "      <td>85</td>\n",
       "      <td>4</td>\n",
       "      <td>1.0</td>\n",
       "      <td>26.0</td>\n",
       "      <td>Non-Demented</td>\n",
       "      <td>1460</td>\n",
       "      <td>0.754</td>\n",
       "      <td>1.202</td>\n",
       "    </tr>\n",
       "    <tr>\n",
       "      <th>OAS1_0203_MR1</th>\n",
       "      <td>F</td>\n",
       "      <td>71</td>\n",
       "      <td>2</td>\n",
       "      <td>3.0</td>\n",
       "      <td>30.0</td>\n",
       "      <td>Non-Demented</td>\n",
       "      <td>1360</td>\n",
       "      <td>0.779</td>\n",
       "      <td>1.291</td>\n",
       "    </tr>\n",
       "  </tbody>\n",
       "</table>\n",
       "<p>100 rows × 9 columns</p>\n",
       "</div>"
      ],
      "text/plain": [
       "              M/F  Age  Educ  SES  MMSE           CDR  eTIV   nWBV    ASF\n",
       "ID                                                                       \n",
       "OAS1_0001_MR1   F   74     2  3.0  29.0  Non-Demented  1344  0.743  1.306\n",
       "OAS1_0002_MR1   F   55     4  1.0  29.0  Non-Demented  1147  0.810  1.531\n",
       "OAS1_0003_MR1   F   73     4  3.0  27.0      Demented  1454  0.708  1.207\n",
       "OAS1_0010_MR1   M   74     5  2.0  30.0  Non-Demented  1636  0.689  1.073\n",
       "OAS1_0011_MR1   F   52     3  2.0  30.0  Non-Demented  1321  0.827  1.329\n",
       "...            ..  ...   ...  ...   ...           ...   ...    ...    ...\n",
       "OAS1_0197_MR1   F   89     3  3.0  29.0  Non-Demented  1154  0.747  1.521\n",
       "OAS1_0199_MR1   M   69     5  1.0  30.0  Non-Demented  1601  0.784  1.096\n",
       "OAS1_0200_MR1   F   60     2  4.0  30.0  Non-Demented  1366  0.807  1.285\n",
       "OAS1_0201_MR1   F   85     4  1.0  26.0  Non-Demented  1460  0.754  1.202\n",
       "OAS1_0203_MR1   F   71     2  3.0  30.0  Non-Demented  1360  0.779  1.291\n",
       "\n",
       "[100 rows x 9 columns]"
      ]
     },
     "execution_count": 9,
     "metadata": {},
     "output_type": "execute_result"
    }
   ],
   "source": [
    "## Creating the target variable for Demented\n",
    "\n",
    "## Since the values of CDR Distribution (0.5=Very Mild Dementia, 1=Mild Dementia, 2=Moderate Dementia) specially for 1 and 2 are small\n",
    "## Combine 0.5, 1 and 2 as demented class while 0 as Non-demented class\n",
    "df_final['CDR'] = df_final['CDR'].map({0.5: 'Demented', 1.0: 'Demented', 2.0: 'Demented', 0: 'Non-Demented'})\n",
    "df_final['SES'] = df_final['SES'].astype('category')\n",
    "df_final['Educ'] = df_final['Educ'].astype('int')\n",
    "df_final.head(100)"
   ]
  },
  {
   "cell_type": "code",
   "execution_count": 10,
   "metadata": {},
   "outputs": [
    {
     "data": {
      "image/png": "[encoded data removed]",
      "text/plain": [
       "<Figure size 360x360 with 1 Axes>"
      ]
     },
     "metadata": {},
     "output_type": "display_data"
    }
   ],
   "source": [
    "## Define function to add % to the graphs\n",
    "def plt_percentage(ax, feature):\n",
    "    total = len(feature)\n",
    "    for p in ax.patches:\n",
    "        percentage = '{:.1f}%'.format(100 * p.get_height()/total)\n",
    "        x = p.get_x() + p.get_width() / 2 - 0.10\n",
    "        y = p.get_y() + p.get_height()\n",
    "        ax.annotate(percentage, (x, y), size = 15)\n",
    "        \n",
    "sns.set(style=\"darkgrid\")\n",
    "fig, axs = plt.subplots(figsize=(5, 5), constrained_layout=True)\n",
    "sns.countplot(data=df_final, x=\"CDR\").set(title=\"Demented vs Non-Demented Distribution\")\n",
    "plt_percentage(axs,df_final.CDR)\n",
    "plt.show()"
   ]
  },
  {
   "cell_type": "code",
   "execution_count": 11,
   "metadata": {},
   "outputs": [],
   "source": [
    "# sns.set(style=\"darkgrid\")\n",
    "# fig, axs = plt.subplots(2, 4, figsize=(20, 5), constrained_layout=True)\n",
    "\n",
    "# sns.countplot(data=df_final, x=\"Educ\", hue='CDR',ax=axs[0,0]).set(title=\"Education Distribution\")\n",
    "# sns.countplot(data=df_final, x=\"M/F\", hue='CDR',ax=axs[0,1]).set(title=\"Gender Distribution\")\n",
    "# sns.histplot(data=df_final, x=\"Age\", kde=True, color=\"skyblue\", hue='CDR',binwidth=1,ax=axs[0,2]).set(title=\"Age Distribution\")\n",
    "# sns.histplot(data=df_final, x=\"SES\", kde=True,hue='CDR', color=\"skyblue\", ax=axs[0,3]).set(title=\"Socio Economic Status Distribution\")\n",
    "# sns.histplot(data=df_final, x=\"MMSE\", kde=True,hue='CDR', color=\"skyblue\", ax=axs[1,0]).set(title=\"Min Mental State Examination\")\n",
    "# sns.histplot(data=df_final, x=\"eTIV\", kde=True, hue='CDR', ax=axs[1,1]).set(title=\"Estimated Total Intracranial Volume Distribution\")\n",
    "# sns.histplot(data=df_final, x=\"nWBV\", kde=True, hue='CDR',color=\"skyblue\", ax=axs[1,2]).set(title=\"Normalize Whole Brain Volume Distribution\")\n",
    "# sns.histplot(data=df_final, x=\"ASF\", kde=True, hue='CDR',color=\"skyblue\", ax=axs[1,3]).set(title=\"Atlas Scaling Factor Distribution\")\n",
    "# plt.show()"
   ]
  },
  {
   "cell_type": "code",
   "execution_count": 12,
   "metadata": {},
   "outputs": [
    {
     "data": {
      "image/png": "[encoded data removed]",
      "text/plain": [
       "<Figure size 720x360 with 2 Axes>"
      ]
     },
     "metadata": {},
     "output_type": "display_data"
    }
   ],
   "source": [
    "sns.set(rc = {'figure.figsize':(10,5)})\n",
    "sns.heatmap(df_final.corr(), annot=True)\n",
    "plt.show()"
   ]
  },
  {
   "cell_type": "markdown",
   "metadata": {},
   "source": [
    "## Model\n",
    "### Train Test Split"
   ]
  },
  {
   "cell_type": "code",
   "execution_count": 13,
   "metadata": {},
   "outputs": [
    {
     "name": "stdout",
     "output_type": "stream",
     "text": [
      "X Train Shape: (486, 8) Y Train Shape: (486,) \n",
      "X Validation Shape: (122, 8) Y Validation Shape: (122,)\n"
     ]
    }
   ],
   "source": [
    "## Train/Test Split\n",
    "random_state=99\n",
    "\n",
    "df_final_model=df_final.copy()\n",
    "df_final_model['CDR'] = df_final_model['CDR'].map({'Demented': 1, 'Non-Demented': 0})\n",
    "X=df_final_model.drop(['CDR'],axis=1)\n",
    "y=df_final_model['CDR']\n",
    "X_train, X_val, y_train,y_val = train_test_split(X,y,train_size=0.8, random_state=random_state)\n",
    "print('X Train Shape:',X_train.shape, 'Y Train Shape:',y_train.shape, '\\nX Validation Shape:',X_val.shape, 'Y Validation Shape:',y_val.shape)"
   ]
  },
  {
   "cell_type": "markdown",
   "metadata": {},
   "source": [
    "### Base Model - Logistic Regression"
   ]
  },
  {
   "cell_type": "code",
   "execution_count": 14,
   "metadata": {},
   "outputs": [
    {
     "name": "stdout",
     "output_type": "stream",
     "text": [
      "Training accuracy: 82.10%\n",
      "Test Accuracy: 86.07%\n"
     ]
    }
   ],
   "source": [
    "## Building Pipeline for Base Model\n",
    "numerical_features= ['Age', 'Educ', 'MMSE','eTIV','nWBV', 'ASF']\n",
    "categorical_features = ['M/F', 'SES']\n",
    "numerical_transform = Pipeline(steps=[('scaler', StandardScaler())])\n",
    "categorical_transform = Pipeline(steps=[('onehot', OneHotEncoder(drop='first'))])\n",
    "preprocessor = ColumnTransformer(transformers=[('numerical', numerical_transform, numerical_features),('categorical', categorical_transform, categorical_features)])\n",
    "\n",
    "## Logistic Regression pipeline\n",
    "pipeline_lr = Pipeline(steps=[('preprocessor', preprocessor),('lr', LogisticRegression(random_state=random_state))])\n",
    "\n",
    "# Fit the model & Predict on the Train set0\n",
    "pipeline_lr.fit(X_train,y_train)\n",
    "y_pred_lr_train=pipeline_lr.predict(X_train)\n",
    "\n",
    "## Predict on the validation set\n",
    "y_pred_lr=pipeline_lr.predict(X_val)\n",
    "\n",
    "## Overall Accuracy\n",
    "test_accuracy_lr_best_c=round(accuracy_score(y_val, y_pred_lr)*100,2)\n",
    "print('Training accuracy: %.2f' % round(accuracy_score(y_train, y_pred_lr_train)*100,2)+'%')\n",
    "print('Test Accuracy: %.2f' % round(accuracy_score(y_val, y_pred_lr)*100,2)+'%')"
   ]
  },
  {
   "cell_type": "code",
   "execution_count": 15,
   "metadata": {},
   "outputs": [
    {
     "name": "stdout",
     "output_type": "stream",
     "text": [
      "Classification Report \n",
      "               precision    recall  f1-score   support\n",
      "\n",
      "           0       0.81      0.95      0.87        62\n",
      "           1       0.94      0.77      0.84        60\n",
      "\n",
      "    accuracy                           0.86       122\n",
      "   macro avg       0.87      0.86      0.86       122\n",
      "weighted avg       0.87      0.86      0.86       122\n",
      "\n"
     ]
    },
    {
     "data": {
      "image/png": "[encoded data removed]",
      "text/plain": [
       "<Figure size 720x360 with 2 Axes>"
      ]
     },
     "metadata": {},
     "output_type": "display_data"
    }
   ],
   "source": [
    "# Plot the confusion matrix\n",
    "print('Classification Report \\n',classification_report(y_val, y_pred_lr))\n",
    "ax=sns.heatmap(confusion_matrix(y_val, y_pred_lr),annot=True, fmt='g')\n",
    "ax.set_xlabel(\"Predicted\")\n",
    "ax.set_ylabel(\"Actual\")\n",
    "ax.set_title(\"Confusion Matrix for Logistic Model (Base model)\")\n",
    "ax.xaxis.set_ticklabels(['Non-Demented','Demented'])\n",
    "ax.yaxis.set_ticklabels(['Non-Demented','Demented'])\n",
    "plt.show()"
   ]
  },
  {
   "cell_type": "markdown",
   "metadata": {},
   "source": [
    "### Experimenting with Different Bagging & Boosting Models with hyperparameters"
   ]
  },
  {
   "cell_type": "code",
   "execution_count": 16,
   "metadata": {},
   "outputs": [
    {
     "name": "stdout",
     "output_type": "stream",
     "text": [
      "Fitting models on hyperparametrs....\n",
      "\n",
      "Model: Logistic Regression with Hyperparameter_tuning\n",
      "Best params: {'lr__C': 1.0, 'lr__penalty': 'l1', 'lr__solver': 'liblinear'}\n",
      "Best training accuracy: 0.82\n",
      "Test set accuracy score for best params: 0.89 \n",
      "\n",
      "Model: Decision Tree\n",
      "Best params: {'dt__criterion': 'gini', 'dt__max_depth': 8, 'dt__min_samples_split': 2}\n",
      "Best training accuracy: 0.85\n",
      "Test set accuracy score for best params: 0.85 \n",
      "\n",
      "Model: Bagging Classifier\n",
      "Best params: {'bc__n_estimators': 60}\n",
      "Best training accuracy: 0.86\n",
      "Test set accuracy score for best params: 0.89 \n",
      "\n",
      "Model: Random Forest\n",
      "Best params: {'rf__max_depth': 17, 'rf__max_features': 2, 'rf__n_estimators': 300}\n",
      "Best training accuracy: 0.89\n",
      "Test set accuracy score for best params: 0.92 \n",
      "\n",
      "Model: Adaboost\n",
      "Best params: {'ada__learning_rate': 0.0001, 'ada__n_estimators': 100}\n",
      "Best training accuracy: 0.84\n",
      "Test set accuracy score for best params: 0.82 \n",
      "\n",
      "Model: Gradient Boosting\n",
      "Best params: {'gb__learning_rate': 1.0, 'gb__n_estimators': 500}\n",
      "Best training accuracy: 0.87\n",
      "Test set accuracy score for best params: 0.89 \n"
     ]
    }
   ],
   "source": [
    "## Creating multiple models\n",
    "## Logistic Regression\n",
    "pipeline_lr = Pipeline(steps=[('preprocessor', preprocessor),('lr', LogisticRegression(random_state=random_state))])\n",
    "## Decision Tree\n",
    "pipeline_dt = Pipeline(steps=[('preprocessor', preprocessor),('dt', DecisionTreeClassifier(random_state=random_state))])\n",
    "## Bagging Classifier\n",
    "pipeline_bc = Pipeline(steps=[('preprocessor', preprocessor),('bc', BaggingClassifier(random_state=random_state))])\n",
    "## Random Forest\n",
    "pipeline_rf = Pipeline(steps=[('preprocessor', preprocessor),('rf', RandomForestClassifier(random_state=random_state))])\n",
    "## Adaboost\n",
    "pipeline_ada = Pipeline(steps=[('preprocessor', preprocessor),('ada', AdaBoostClassifier(base_estimator=DecisionTreeClassifier(),random_state=random_state))])\n",
    "## GradientBoosting Classifier\n",
    "pipeline_gb = Pipeline(steps=[('preprocessor', preprocessor),('gb', GradientBoostingClassifier(random_state=random_state))])\n",
    "\n",
    "## Grid Search Parameters\n",
    "criterion = ['gini', 'entropy']\n",
    "max_depth = range(2,20)\n",
    "min_samples_split=range(2,20)\n",
    "n_estimators = [100,200,300,500]\n",
    "max_features = range(2, 10)\n",
    "learning_rate = [0.0001, 0.001, 0.01, 0.1, 0.0002,0.002, 0.02, 0.2,1.0,2.0]\n",
    "\n",
    "\n",
    "grid_params_lr = [{'lr__penalty': ['l1', 'l2'],'lr__C': np.logspace(0,20,1),'lr__solver': ['liblinear']}] \n",
    "grid_params_dt = [{'dt__criterion': criterion,'dt__max_depth': max_depth,'dt__min_samples_split': min_samples_split}] \n",
    "grid_params_bc = [{'bc__n_estimators': range(10,100,10)}]\n",
    "grid_params_rf = [{'rf__n_estimators':n_estimators,'rf__max_features': max_features,'rf__max_depth': max_depth}]\n",
    "grid_params_ada = [{'ada__n_estimators': n_estimators, 'ada__learning_rate': learning_rate}]\n",
    "grid_params_gb = [{'gb__n_estimators': n_estimators, 'gb__learning_rate': learning_rate}]\n",
    "\n",
    "## Create grid searches with 10 Fold Cross-validation\n",
    "gs_lr = GridSearchCV(estimator=pipeline_lr,param_grid=grid_params_lr,scoring='accuracy',cv=10)\n",
    "gs_dt = GridSearchCV(estimator=pipeline_dt,param_grid=grid_params_dt,scoring='accuracy',cv=10)\n",
    "gs_bc = GridSearchCV(estimator=pipeline_bc,param_grid=grid_params_bc,scoring='accuracy',cv=10)\n",
    "gs_rf = GridSearchCV(estimator=pipeline_rf,param_grid=grid_params_rf,scoring='accuracy',cv=10)\n",
    "gs_ada= GridSearchCV(estimator=pipeline_ada,param_grid=grid_params_ada,scoring='accuracy',cv=10)\n",
    "gs_gb = GridSearchCV(estimator=pipeline_gb,param_grid=grid_params_gb,scoring='accuracy',cv=10)\n",
    "\n",
    "# List of pipelines\n",
    "grids = [gs_lr,gs_dt,gs_bc,gs_rf, gs_ada, gs_gb]\n",
    "\n",
    "# Dictionary of Models\n",
    "grid_dict = {0: 'Logistic Regression with Hyperparameter_tuning', 1: 'Decision Tree', \n",
    "             2: 'Bagging Classifier' ,3: 'Random Forest', 4: 'Adaboost', 5: 'Gradient Boosting'}\n",
    "\n",
    "\n",
    "# Fit the grid search for each model\n",
    "print('Fitting models on hyperparametrs....')\n",
    "for i, model in enumerate(grids):\n",
    "    print('\\nModel: %s'% grid_dict[i])\n",
    "    # Fit grid search\n",
    "    model.fit(X_train, y_train)\n",
    "    # Best parameters\n",
    "    print('Best params: %s' % model.best_params_)\n",
    "    # Best training data accuracy\n",
    "    print('Best training accuracy: %.2f' % model.best_score_)\n",
    "    # Predict on test data with best params\n",
    "    y_pred = model.predict(X_val)\n",
    "    # Test data accuracy of model with best params\n",
    "    print('Test set accuracy score for best params: %.2f ' % accuracy_score(y_val, y_pred))"
   ]
  },
  {
   "cell_type": "markdown",
   "metadata": {},
   "source": [
    "### Further Tuning the Best Model - Random Forest"
   ]
  },
  {
   "cell_type": "code",
   "execution_count": 17,
   "metadata": {},
   "outputs": [
    {
     "name": "stdout",
     "output_type": "stream",
     "text": [
      "Training accuracy: 100.00%\n",
      "Test Accuracy: 91.80%\n"
     ]
    }
   ],
   "source": [
    "pipeline_rf_final = Pipeline(steps=[('preprocessor', preprocessor),('rf', RandomForestClassifier(random_state=random_state))])\n",
    "grid_params_rf_final = [{'rf__n_estimators':[300],'rf__max_features': [2],'rf__max_depth': [20]}]\n",
    "gs_rf_final = GridSearchCV(estimator=pipeline_rf_final,param_grid=grid_params_rf_final,scoring='accuracy')\n",
    "\n",
    "model_rf_final=gs_rf_final.fit(X_train,y_train)\n",
    "y_pred_rf_train=model_rf_final.predict(X_train)\n",
    "\n",
    "## Predict on the validation set\n",
    "y_pred_rf=model_rf_final.predict(X_val)\n",
    "\n",
    "## Overall Accuracy\n",
    "test_accuracy_rf_best_c=round(accuracy_score(y_val, y_pred_rf)*100,2)\n",
    "print('Training accuracy: %.2f' % round(accuracy_score(y_train, y_pred_rf_train)*100,2)+'%')\n",
    "print('Test Accuracy: %.2f' % round(accuracy_score(y_val, y_pred_rf)*100,2)+'%')"
   ]
  },
  {
   "cell_type": "code",
   "execution_count": 18,
   "metadata": {},
   "outputs": [
    {
     "name": "stdout",
     "output_type": "stream",
     "text": [
      "Classification Report \n",
      "               precision    recall  f1-score   support\n",
      "\n",
      "           0       0.89      0.95      0.92        62\n",
      "           1       0.95      0.88      0.91        60\n",
      "\n",
      "    accuracy                           0.92       122\n",
      "   macro avg       0.92      0.92      0.92       122\n",
      "weighted avg       0.92      0.92      0.92       122\n",
      "\n"
     ]
    },
    {
     "data": {
      "image/png": "[encoded data removed]",
      "text/plain": [
       "<Figure size 720x360 with 2 Axes>"
      ]
     },
     "metadata": {},
     "output_type": "display_data"
    }
   ],
   "source": [
    "# Plot the confusion matrix\n",
    "print('Classification Report \\n',classification_report(y_val, y_pred_rf))\n",
    "ax=sns.heatmap(confusion_matrix(y_val, y_pred_rf),annot=True, fmt='g')\n",
    "ax.set_xlabel(\"Predicted\")\n",
    "ax.set_ylabel(\"Actual\")\n",
    "ax.set_title(\"Confusion Matrix for tuned Random Forest\")\n",
    "ax.xaxis.set_ticklabels(['Non-Demented','Demented'])\n",
    "ax.yaxis.set_ticklabels(['Non-Demented','Demented'])\n",
    "plt.show()"
   ]
  },
  {
   "cell_type": "markdown",
   "metadata": {},
   "source": [
    "## Building Dashboard for Train Data for Transparency & Interpretability"
   ]
  },
  {
   "cell_type": "code",
   "execution_count": 19,
   "metadata": {},
   "outputs": [
    {
     "name": "stdout",
     "output_type": "stream",
     "text": [
      "Warning: Detected the following categorical columns: ['M/F', 'SES']. Unfortunately for now shap interaction values do not work withcategorical columns.\n",
      "WARNING: Parameter shap='guess', but failed to guess the type of shap explainer to use for GridSearchCV. Defaulting to the model agnostic shap.KernelExplainer (shap='kernel'). However this will be slow, so if your model is compatible with e.g. shap.TreeExplainer or shap.LinearExplainer then pass shap='tree' or shap='linear'!\n",
      "WARNING: For shap='kernel', shap interaction values can unfortunately not be calculated!\n",
      "Warning: Models that deal with categorical features directly such as GridSearchCV are incompatible with model_output='probability' for now. So setting model_output='logodds'...\n",
      "Note: shap values for shap='kernel' normally get calculated against X_background, but paramater X_background=None, so setting X_background=shap.sample(X, 50)...\n",
      "Note: for ClassifierExplainer shap='kernel' defaults to model_output='probability\n",
      "Generating self.shap_explainer = shap.KernelExplainer(model, X, link='identity')\n",
      "Building ExplainerDashboard..\n",
      "Calculating shap values...\n"
     ]
    },
    {
     "name": "stderr",
     "output_type": "stream",
     "text": [
      "100%|██████████| 486/486 [05:00<00:00,  1.62it/s]"
     ]
    },
    {
     "name": "stdout",
     "output_type": "stream",
     "text": [
      "Generating layout...\n",
      "Calculating confusion matrices...\n",
      "Calculating prediction probabilities...\n"
     ]
    },
    {
     "name": "stderr",
     "output_type": "stream",
     "text": [
      "\n"
     ]
    },
    {
     "name": "stdout",
     "output_type": "stream",
     "text": [
      "Calculating roc auc curves...\n",
      "Calculating dependencies...\n",
      "Calculating predictions...\n",
      "Calculating pred_percentiles...\n",
      "Calculating metrics...\n",
      "Reminder: you can store the explainer (including calculated dependencies) with explainer.dump('explainer.joblib') and reload with e.g. ClassifierExplainer.from_file('explainer.joblib')\n",
      "Registering callbacks...\n",
      "Starting ExplainerDashboard on http://192.168.1.8:8050\n",
      "You can terminate the dashboard with ExplainerDashboard.terminate(8050)\n",
      "Dash app running on http://127.0.0.1:8050/\n"
     ]
    }
   ],
   "source": [
    "feature_descriptions = {\n",
    "    \"M/F\": \"Gender(M if Male, F if Female)\",\n",
    "    \"Age\": \"Age in years\",\n",
    "    \"Educ\": \"Years of Education\",\n",
    "    \"SES\": \"SocioEconomic Status\",\n",
    "    \"MMSE\": \"Mini Mental State Examination\", \n",
    "    \"eTIV\": \"Estimated Total Intracranial Volume\",\n",
    "    \"nWBV\": \"Normalize Whole Brain Volume\",\n",
    "    \"ASF\": \"Atlas Scaling Factor\"\n",
    "}\n",
    "\n",
    "explainer1 = ClassifierExplainer(model_rf_final, X_train, y_train,\n",
    "                               labels=['Non Demented', 'Demented'],\n",
    "                               index_name = \"Subjects\",\n",
    "                               target = \"Demented\", descriptions=feature_descriptions)\n",
    "\n",
    "ExplainerDashboard(explainer1,title=\"Alzheimer Explainer - Train Dataset\",mode='external',shap='tree',importances=True,\n",
    "                    model_summary=True,\n",
    "                    contributions=True,\n",
    "                    whatif=True,\n",
    "                    shap_dependence=True,\n",
    "                    shap_interaction=True,\n",
    "                    decision_trees=False,simple=True).run()"
   ]
  },
  {
   "cell_type": "markdown",
   "metadata": {},
   "source": [
    "## Building Dashboard for Test Data for Transparency & Interpretability"
   ]
  },
  {
   "cell_type": "code",
   "execution_count": 20,
   "metadata": {},
   "outputs": [
    {
     "name": "stdout",
     "output_type": "stream",
     "text": [
      "Warning: Detected the following categorical columns: ['M/F', 'SES']. Unfortunately for now shap interaction values do not work withcategorical columns.\n",
      "WARNING: Parameter shap='guess', but failed to guess the type of shap explainer to use for GridSearchCV. Defaulting to the model agnostic shap.KernelExplainer (shap='kernel'). However this will be slow, so if your model is compatible with e.g. shap.TreeExplainer or shap.LinearExplainer then pass shap='tree' or shap='linear'!\n",
      "WARNING: For shap='kernel', shap interaction values can unfortunately not be calculated!\n",
      "Warning: Models that deal with categorical features directly such as GridSearchCV are incompatible with model_output='probability' for now. So setting model_output='logodds'...\n",
      "Note: shap values for shap='kernel' normally get calculated against X_background, but paramater X_background=None, so setting X_background=shap.sample(X, 50)...\n",
      "Note: for ClassifierExplainer shap='kernel' defaults to model_output='probability\n",
      "Generating self.shap_explainer = shap.KernelExplainer(model, X, link='identity')\n",
      "Building ExplainerDashboard..\n",
      "Calculating shap values...\n"
     ]
    },
    {
     "name": "stderr",
     "output_type": "stream",
     "text": [
      "100%|██████████| 122/122 [01:19<00:00,  1.53it/s]"
     ]
    },
    {
     "name": "stdout",
     "output_type": "stream",
     "text": [
      "Generating layout...\n",
      "Calculating confusion matrices...\n",
      "Calculating prediction probabilities...\n"
     ]
    },
    {
     "name": "stderr",
     "output_type": "stream",
     "text": [
      "\n"
     ]
    },
    {
     "name": "stdout",
     "output_type": "stream",
     "text": [
      "Calculating roc auc curves...\n",
      "Calculating dependencies...\n",
      "Calculating predictions...\n",
      "Calculating pred_percentiles...\n",
      "Calculating metrics...\n",
      "Reminder: you can store the explainer (including calculated dependencies) with explainer.dump('explainer.joblib') and reload with e.g. ClassifierExplainer.from_file('explainer.joblib')\n",
      "Registering callbacks...\n",
      "Starting ExplainerDashboard on http://192.168.1.8:8050\n",
      "You can terminate the dashboard with ExplainerDashboard.terminate(8050)\n",
      "Dash app running on http://127.0.0.1:8050/\n"
     ]
    }
   ],
   "source": [
    "feature_descriptions = {\n",
    "    \"M/F\": \"Gender(M if Male, F if Female)\",\n",
    "    \"Age\": \"Age in years\",\n",
    "    \"Educ\": \"Years of Education\",\n",
    "    \"SES\": \"SocioEconomic Status\",\n",
    "    \"MMSE\": \"Mini Mental State Examination\", \n",
    "    \"eTIV\": \"Estimated Total Intracranial Volume\",\n",
    "    \"nWBV\": \"Normalize Whole Brain Volume\",\n",
    "    \"ASF\": \"Atlas Scaling Factor\"\n",
    "}\n",
    "\n",
    "explainer2 = ClassifierExplainer(model_rf_final, X_val, y_val,\n",
    "                               labels=['Non Demented', 'Demented'],\n",
    "                               index_name = \"Subjects\",\n",
    "                               target = \"Demented\", descriptions=feature_descriptions)\n",
    "\n",
    "ExplainerDashboard(explainer2,title=\"Alzheimer Explainer- Test Dataset\",mode='external',shap='tree',importances=True,\n",
    "                    model_summary=True,\n",
    "                    contributions=True,\n",
    "                    whatif=True,\n",
    "                    shap_dependence=True,\n",
    "                    shap_interaction=True,\n",
    "                    decision_trees=True,simple=True).run()\n",
    "\n"
   ]
  },
  {
   "cell_type": "code",
   "execution_count": null,
   "metadata": {},
   "outputs": [],
   "source": []
  }
 ],
 "metadata": {
  "interpreter": {
   "hash": "4bc85f43f94f9c4ebf3a6c863ef6f59f28599b2e9f9c9d2b8433f9a970156b9f"
  },
  "kernelspec": {
   "display_name": "Python 3 (ipykernel)",
   "language": "python",
   "name": "python3"
  },
  "language_info": {
   "codemirror_mode": {
    "name": "ipython",
    "version": 3
   },
   "file_extension": ".py",
   "mimetype": "text/x-python",
   "name": "python",
   "nbconvert_exporter": "python",
   "pygments_lexer": "ipython3",
   "version": "3.8.8"
  }
 },
 "nbformat": 4,
 "nbformat_minor": 2
}
